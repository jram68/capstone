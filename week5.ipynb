{
 "cells": [
  {
   "cell_type": "markdown",
   "metadata": {},
   "source": [
    "# Introduction/Business Problem:\n",
    "John is the COO Regal Cinemas and is tasked with analyzing locations for the next movie theater to be built. John must report his findings to the Board of Directors, therefore the Board is the audience and stakeholder of this data science report. John has narrowed down his options to Manhattan and Boston. John must analyze  market saturation in these locations using Foursquare API and its data in order to determine if a new bakery will be a winning or losing venture. In order to perform the analysis of whether to build a new bakery in Manhattan vs Boston, I will create dataframes of these neighborhoods that include Foursquare API data included showing the existing number of bakeries in various distances from neighborhoods."
   ]
  },
  {
   "cell_type": "markdown",
   "metadata": {},
   "source": [
    "## 1. Import and analyze data for Manhattan and Toronto and analyze using Foursquare"
   ]
  },
  {
   "cell_type": "code",
   "execution_count": 1,
   "metadata": {},
   "outputs": [
    {
     "name": "stdout",
     "output_type": "stream",
     "text": [
      "Solving environment: done\n",
      "\n",
      "## Package Plan ##\n",
      "\n",
      "  environment location: /home/jupyterlab/conda\n",
      "\n",
      "  added / updated specs: \n",
      "    - geopy\n",
      "\n",
      "\n",
      "The following packages will be downloaded:\n",
      "\n",
      "    package                    |            build\n",
      "    ---------------------------|-----------------\n",
      "    openssl-1.0.2p             |       h470a237_1         3.1 MB  conda-forge\n",
      "    certifi-2018.10.15         |        py36_1000         138 KB  conda-forge\n",
      "    geopy-1.17.0               |             py_0          49 KB  conda-forge\n",
      "    ca-certificates-2018.10.15 |       ha4d7672_0         135 KB  conda-forge\n",
      "    conda-4.5.11               |        py36_1000         651 KB  conda-forge\n",
      "    geographiclib-1.49         |             py_0          32 KB  conda-forge\n",
      "    ------------------------------------------------------------\n",
      "                                           Total:         4.1 MB\n",
      "\n",
      "The following NEW packages will be INSTALLED:\n",
      "\n",
      "    geographiclib:   1.49-py_0            conda-forge\n",
      "    geopy:           1.17.0-py_0          conda-forge\n",
      "\n",
      "The following packages will be UPDATED:\n",
      "\n",
      "    ca-certificates: 2018.8.24-ha4d7672_0 conda-forge --> 2018.10.15-ha4d7672_0 conda-forge\n",
      "    certifi:         2018.8.24-py36_1001  conda-forge --> 2018.10.15-py36_1000  conda-forge\n",
      "    conda:           4.5.11-py36_0        conda-forge --> 4.5.11-py36_1000      conda-forge\n",
      "    openssl:         1.0.2p-h470a237_0    conda-forge --> 1.0.2p-h470a237_1     conda-forge\n",
      "\n",
      "\n",
      "Downloading and Extracting Packages\n",
      "openssl-1.0.2p       | 3.1 MB    | ##################################### | 100% \n",
      "certifi-2018.10.15   | 138 KB    | ##################################### | 100% \n",
      "geopy-1.17.0         | 49 KB     | ##################################### | 100% \n",
      "ca-certificates-2018 | 135 KB    | ##################################### | 100% \n",
      "conda-4.5.11         | 651 KB    | ##################################### | 100% \n",
      "geographiclib-1.49   | 32 KB     | ##################################### | 100% \n",
      "Preparing transaction: done\n",
      "Verifying transaction: done\n",
      "Executing transaction: done\n",
      "Solving environment: done\n",
      "\n",
      "## Package Plan ##\n",
      "\n",
      "  environment location: /home/jupyterlab/conda\n",
      "\n",
      "  added / updated specs: \n",
      "    - folium=0.5.0\n",
      "\n",
      "\n",
      "The following packages will be downloaded:\n",
      "\n",
      "    package                    |            build\n",
      "    ---------------------------|-----------------\n",
      "    altair-2.2.2               |        py36_1001         494 KB  conda-forge\n",
      "    folium-0.5.0               |             py_0          45 KB  conda-forge\n",
      "    branca-0.3.0               |             py_0          24 KB  conda-forge\n",
      "    vincent-0.4.4              |             py_1          28 KB  conda-forge\n",
      "    ------------------------------------------------------------\n",
      "                                           Total:         592 KB\n",
      "\n",
      "The following NEW packages will be INSTALLED:\n",
      "\n",
      "    altair:  2.2.2-py36_1001 conda-forge\n",
      "    branca:  0.3.0-py_0      conda-forge\n",
      "    folium:  0.5.0-py_0      conda-forge\n",
      "    vincent: 0.4.4-py_1      conda-forge\n",
      "\n",
      "\n",
      "Downloading and Extracting Packages\n",
      "altair-2.2.2         | 494 KB    | ##################################### | 100% \n",
      "folium-0.5.0         | 45 KB     | ##################################### | 100% \n",
      "branca-0.3.0         | 24 KB     | ##################################### | 100% \n",
      "vincent-0.4.4        | 28 KB     | ##################################### | 100% \n",
      "Preparing transaction: done\n",
      "Verifying transaction: done\n",
      "Executing transaction: done\n",
      "Folium installed\n",
      "Libraries imported.\n"
     ]
    }
   ],
   "source": [
    "!conda install -c conda-forge geopy --yes \n",
    "from geopy.geocoders import Nominatim # module to convert an address into latitude and longitude values\n",
    "import requests # library to handle requests\n",
    "import pandas as pd # library for data analsysis\n",
    "import numpy as np # library to handle data in a vectorized manner\n",
    "import random # library for random number generation\n",
    "\n",
    "# libraries for displaying images\n",
    "from IPython.display import Image \n",
    "from IPython.core.display import HTML \n",
    "    \n",
    "# tranforming json file into a pandas dataframe library\n",
    "from pandas.io.json import json_normalize\n",
    "\n",
    "!conda install -c conda-forge folium=0.5.0 --yes\n",
    "import folium # plotting library\n",
    "\n",
    "print('Folium installed')\n",
    "print('Libraries imported.')"
   ]
  },
  {
   "cell_type": "markdown",
   "metadata": {},
   "source": [
    "### Fourquare API setup"
   ]
  },
  {
   "cell_type": "code",
   "execution_count": 184,
   "metadata": {},
   "outputs": [
    {
     "name": "stdout",
     "output_type": "stream",
     "text": [
      "Your credentails:\n",
      "CLIENT_ID: 01KIWQCAD1RX3XL3CMLS34D0KV00X4MGJHW1YKKQZYZVJSIV\n",
      "CLIENT_SECRET:X0YCUYOZLATPQMFUP3AEQNEO0HBIPD4FTDBZYNKXGCVQ0Z4G\n"
     ]
    }
   ],
   "source": [
    "CLIENT_ID = '01KIWQCAD1RX3XL3CMLS34D0KV00X4MGJHW1YKKQZYZVJSIV' # your Foursquare ID\n",
    "CLIENT_SECRET = 'X0YCUYOZLATPQMFUP3AEQNEO0HBIPD4FTDBZYNKXGCVQ0Z4G' # your Foursquare Secret\n",
    "VERSION = '20180605' # Foursquare API version\n",
    "\n",
    "print('Your credentails:')\n",
    "print('CLIENT_ID: ' + CLIENT_ID)\n",
    "print('CLIENT_SECRET:' + CLIENT_SECRET)"
   ]
  },
  {
   "cell_type": "markdown",
   "metadata": {},
   "source": [
    "### NYC lat and long"
   ]
  },
  {
   "cell_type": "code",
   "execution_count": 3,
   "metadata": {},
   "outputs": [
    {
     "name": "stderr",
     "output_type": "stream",
     "text": [
      "/home/jupyterlab/conda/lib/python3.6/site-packages/geopy/geocoders/osm.py:143: UserWarning: Using Nominatim with the default \"geopy/1.17.0\" `user_agent` is strongly discouraged, as it violates Nominatim's ToS https://operations.osmfoundation.org/policies/nominatim/ and may possibly cause 403 and 429 HTTP errors. Please specify a custom `user_agent` with `Nominatim(user_agent=\"my-application\")` or by overriding the default `user_agent`: `geopy.geocoders.options.default_user_agent = \"my-application\"`. In geopy 2.0 this will become an exception.\n",
      "  UserWarning\n"
     ]
    },
    {
     "name": "stdout",
     "output_type": "stream",
     "text": [
      "40.7149555 -74.0153365\n"
     ]
    }
   ],
   "source": [
    "address = '102 North End Ave, New York, NY'\n",
    "\n",
    "geolocator = Nominatim()\n",
    "location = geolocator.geocode(address)\n",
    "latitude = location.latitude\n",
    "longitude = location.longitude\n",
    "print(latitude, longitude)"
   ]
  },
  {
   "cell_type": "code",
   "execution_count": 187,
   "metadata": {},
   "outputs": [],
   "source": [
    "cat_url = 'https://api.foursquare.com/v2/venues/explore?&client_id=01KIWQCAD1RX3XL3CMLS34D0KV00X4MGJHW1YKKQZYZVJSIV&client_secret=X0YCUYOZLATPQMFUP3AEQNEO0HBIPD4FTDBZYNKXGCVQ0Z4G&categoryId=4bf58dd8d48988d17f941735&ll=40.7149555,-74.0153365&radius=500&limit=50&v=20181010'\n",
    "categor = requests.get(cat_url).json()\n",
    "#categor"
   ]
  },
  {
   "cell_type": "markdown",
   "metadata": {},
   "source": [
    "All the information is in the items key. Before we proceed, let's borrow the get_category_type function from the Foursquare lab."
   ]
  },
  {
   "cell_type": "code",
   "execution_count": 188,
   "metadata": {},
   "outputs": [],
   "source": [
    "# function that extracts the category of the venue\n",
    "def get_category_type(row):\n",
    "    try:\n",
    "        categories_list = row['categories']\n",
    "    except:\n",
    "        categories_list = row['venue.categories']\n",
    "        \n",
    "    if len(categories_list) == 0:\n",
    "        return None\n",
    "    else:\n",
    "        return categories_list[0]['name']"
   ]
  },
  {
   "cell_type": "markdown",
   "metadata": {},
   "source": [
    "Now we are ready to clean the json and structure it into a pandas dataframe."
   ]
  },
  {
   "cell_type": "code",
   "execution_count": 189,
   "metadata": {},
   "outputs": [
    {
     "data": {
      "text/plain": [
       "(5, 4)"
      ]
     },
     "execution_count": 189,
     "metadata": {},
     "output_type": "execute_result"
    }
   ],
   "source": [
    "venues = categor['response']['groups'][0]['items']\n",
    "    \n",
    "nearby_venues = json_normalize(venues) # flatten JSON\n",
    "\n",
    "# filter columns\n",
    "filtered_columns = ['venue.name', 'venue.categories', 'venue.location.lat', 'venue.location.lng']\n",
    "nearby_venues =nearby_venues.loc[:, filtered_columns]\n",
    "\n",
    "# filter the category for each row\n",
    "nearby_venues['venue.categories'] = nearby_venues.apply(get_category_type, axis=1)\n",
    "\n",
    "# clean columns\n",
    "nearby_venues.columns = [col.split(\".\")[-1] for col in nearby_venues.columns]\n",
    "\n",
    "nearby_venues.shape\n"
   ]
  },
  {
   "cell_type": "markdown",
   "metadata": {},
   "source": [
    "### Verify that Pandas DF contains Movie Theaters"
   ]
  },
  {
   "cell_type": "code",
   "execution_count": 183,
   "metadata": {},
   "outputs": [
    {
     "data": {
      "text/html": [
       "<div>\n",
       "<style scoped>\n",
       "    .dataframe tbody tr th:only-of-type {\n",
       "        vertical-align: middle;\n",
       "    }\n",
       "\n",
       "    .dataframe tbody tr th {\n",
       "        vertical-align: top;\n",
       "    }\n",
       "\n",
       "    .dataframe thead th {\n",
       "        text-align: right;\n",
       "    }\n",
       "</style>\n",
       "<table border=\"1\" class=\"dataframe\">\n",
       "  <thead>\n",
       "    <tr style=\"text-align: right;\">\n",
       "      <th></th>\n",
       "      <th>name</th>\n",
       "      <th>categories</th>\n",
       "      <th>lat</th>\n",
       "      <th>lng</th>\n",
       "    </tr>\n",
       "  </thead>\n",
       "  <tbody>\n",
       "    <tr>\n",
       "      <th>0</th>\n",
       "      <td>Regal Cinemas Battery Park 11</td>\n",
       "      <td>Movie Theater</td>\n",
       "      <td>40.714683</td>\n",
       "      <td>-74.015023</td>\n",
       "    </tr>\n",
       "    <tr>\n",
       "      <th>1</th>\n",
       "      <td>Express DVD</td>\n",
       "      <td>Movie Theater</td>\n",
       "      <td>40.717675</td>\n",
       "      <td>-74.015639</td>\n",
       "    </tr>\n",
       "    <tr>\n",
       "      <th>2</th>\n",
       "      <td>Tribeca Performing Arts Center</td>\n",
       "      <td>Performing Arts Venue</td>\n",
       "      <td>40.717594</td>\n",
       "      <td>-74.012198</td>\n",
       "    </tr>\n",
       "    <tr>\n",
       "      <th>3</th>\n",
       "      <td>Brookfield Place - BFPL</td>\n",
       "      <td>Shopping Mall</td>\n",
       "      <td>40.713204</td>\n",
       "      <td>-74.015619</td>\n",
       "    </tr>\n",
       "    <tr>\n",
       "      <th>4</th>\n",
       "      <td>Online Theatre</td>\n",
       "      <td>Indie Movie Theater</td>\n",
       "      <td>40.712696</td>\n",
       "      <td>-74.012262</td>\n",
       "    </tr>\n",
       "  </tbody>\n",
       "</table>\n",
       "</div>"
      ],
      "text/plain": [
       "                             name             categories        lat        lng\n",
       "0   Regal Cinemas Battery Park 11          Movie Theater  40.714683 -74.015023\n",
       "1                     Express DVD          Movie Theater  40.717675 -74.015639\n",
       "2  Tribeca Performing Arts Center  Performing Arts Venue  40.717594 -74.012198\n",
       "3         Brookfield Place - BFPL          Shopping Mall  40.713204 -74.015619\n",
       "4                  Online Theatre    Indie Movie Theater  40.712696 -74.012262"
      ]
     },
     "execution_count": 183,
     "metadata": {},
     "output_type": "execute_result"
    }
   ],
   "source": [
    "nearby_venues"
   ]
  },
  {
   "cell_type": "markdown",
   "metadata": {},
   "source": [
    "### How many Movie Theaters exist within 500m of 102nd street in NYC"
   ]
  },
  {
   "cell_type": "code",
   "execution_count": 190,
   "metadata": {},
   "outputs": [
    {
     "name": "stdout",
     "output_type": "stream",
     "text": [
      "5 theaters returned by Foursquare.\n"
     ]
    }
   ],
   "source": [
    "print('{} theaters returned by Foursquare.'.format(nearby_venues.shape[0]))"
   ]
  },
  {
   "cell_type": "markdown",
   "metadata": {},
   "source": [
    "### Boston lat and long"
   ]
  },
  {
   "cell_type": "code",
   "execution_count": 174,
   "metadata": {},
   "outputs": [
    {
     "name": "stdout",
     "output_type": "stream",
     "text": [
      "42.3601 71.0589\n"
     ]
    }
   ],
   "source": [
    "latitudeT = 42.3601\n",
    "longitudeT = 71.0589\n",
    "print(latitudeT, longitudeT)"
   ]
  },
  {
   "cell_type": "markdown",
   "metadata": {},
   "source": [
    "Create restful API URI"
   ]
  },
  {
   "cell_type": "code",
   "execution_count": 175,
   "metadata": {},
   "outputs": [],
   "source": [
    "urlT = 'https://api.foursquare.com/v2/venues/explore?&client_id=01KIWQCAD1RX3XL3CMLS34D0KV00X4MGJHW1YKKQZYZVJSIV&client_secret=X0YCUYOZLATPQMFUP3AEQNEO0HBIPD4FTDBZYNKXGCVQ0Z4G&categoryId=4bf58dd8d48988d17f941735&ll=42.3601,-71.0589&radius=500&v=20181010'\n",
    "categor2 = requests.get(urlT).json()\n",
    "#categor2"
   ]
  },
  {
   "cell_type": "code",
   "execution_count": 176,
   "metadata": {},
   "outputs": [],
   "source": [
    "# function that extracts the category of the venue\n",
    "def get_category_type(row):\n",
    "    try:\n",
    "        categories_listT = row['categories']\n",
    "    except:\n",
    "        categories_listT = row['venue.categories']\n",
    "        \n",
    "    if len(categories_listT) == 0:\n",
    "        return None\n",
    "    else:\n",
    "        return categories_listT[0]['name']"
   ]
  },
  {
   "cell_type": "code",
   "execution_count": 177,
   "metadata": {},
   "outputs": [
    {
     "data": {
      "text/plain": [
       "(3, 4)"
      ]
     },
     "execution_count": 177,
     "metadata": {},
     "output_type": "execute_result"
    }
   ],
   "source": [
    "venuesT = categor2['response']['groups'][0]['items']\n",
    "    \n",
    "nearby_venuesT = json_normalize(venuesT) # flatten JSON\n",
    "\n",
    "# filter columns\n",
    "filtered_columnsT = ['venue.name', 'venue.categories', 'venue.location.lat', 'venue.location.lng']\n",
    "nearby_venuesT =nearby_venuesT.loc[:, filtered_columnsT]\n",
    "\n",
    "# filter the category for each row\n",
    "nearby_venuesT['venue.categories'] = nearby_venuesT.apply(get_category_type, axis=1)\n",
    "\n",
    "# clean columns\n",
    "nearby_venuesT.columns = [col.split(\".\")[-1] for col in nearby_venuesT.columns]\n",
    "\n",
    "nearby_venuesT.shape"
   ]
  },
  {
   "cell_type": "markdown",
   "metadata": {},
   "source": [
    "### Verify that Pandas DF contains Movie Theaters"
   ]
  },
  {
   "cell_type": "code",
   "execution_count": 178,
   "metadata": {},
   "outputs": [
    {
     "data": {
      "text/html": [
       "<div>\n",
       "<style scoped>\n",
       "    .dataframe tbody tr th:only-of-type {\n",
       "        vertical-align: middle;\n",
       "    }\n",
       "\n",
       "    .dataframe tbody tr th {\n",
       "        vertical-align: top;\n",
       "    }\n",
       "\n",
       "    .dataframe thead th {\n",
       "        text-align: right;\n",
       "    }\n",
       "</style>\n",
       "<table border=\"1\" class=\"dataframe\">\n",
       "  <thead>\n",
       "    <tr style=\"text-align: right;\">\n",
       "      <th></th>\n",
       "      <th>name</th>\n",
       "      <th>categories</th>\n",
       "      <th>lat</th>\n",
       "      <th>lng</th>\n",
       "    </tr>\n",
       "  </thead>\n",
       "  <tbody>\n",
       "    <tr>\n",
       "      <th>0</th>\n",
       "      <td>French Library</td>\n",
       "      <td>Movie Theater</td>\n",
       "      <td>42.358544</td>\n",
       "      <td>-71.059377</td>\n",
       "    </tr>\n",
       "    <tr>\n",
       "      <th>1</th>\n",
       "      <td>Spirt Stern Hall</td>\n",
       "      <td>Movie Theater</td>\n",
       "      <td>42.357577</td>\n",
       "      <td>-71.056338</td>\n",
       "    </tr>\n",
       "    <tr>\n",
       "      <th>2</th>\n",
       "      <td>Video Cinema</td>\n",
       "      <td>Movie Theater</td>\n",
       "      <td>42.363400</td>\n",
       "      <td>-71.055801</td>\n",
       "    </tr>\n",
       "  </tbody>\n",
       "</table>\n",
       "</div>"
      ],
      "text/plain": [
       "               name     categories        lat        lng\n",
       "0    French Library  Movie Theater  42.358544 -71.059377\n",
       "1  Spirt Stern Hall  Movie Theater  42.357577 -71.056338\n",
       "2      Video Cinema  Movie Theater  42.363400 -71.055801"
      ]
     },
     "execution_count": 178,
     "metadata": {},
     "output_type": "execute_result"
    }
   ],
   "source": [
    "nearby_venuesT"
   ]
  },
  {
   "cell_type": "markdown",
   "metadata": {},
   "source": [
    "### How many Movie Theaters exist within 500m of 102nd street in NYC"
   ]
  },
  {
   "cell_type": "code",
   "execution_count": 191,
   "metadata": {},
   "outputs": [
    {
     "name": "stdout",
     "output_type": "stream",
     "text": [
      "3 theaters returned by Foursquare.\n"
     ]
    }
   ],
   "source": [
    "print('{} theaters returned by Foursquare.'.format(nearby_venuesT.shape[0]))"
   ]
  },
  {
   "cell_type": "code",
   "execution_count": null,
   "metadata": {},
   "outputs": [],
   "source": []
  }
 ],
 "metadata": {
  "kernelspec": {
   "display_name": "Python 3",
   "language": "python",
   "name": "python3"
  },
  "language_info": {
   "codemirror_mode": {
    "name": "ipython",
    "version": 3
   },
   "file_extension": ".py",
   "mimetype": "text/x-python",
   "name": "python",
   "nbconvert_exporter": "python",
   "pygments_lexer": "ipython3",
   "version": "3.6.5"
  }
 },
 "nbformat": 4,
 "nbformat_minor": 2
}
